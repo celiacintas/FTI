{
 "cells": [
  {
   "cell_type": "markdown",
   "metadata": {},
   "source": [
    "### Automatas finitos deterministicos en Python\n",
    "![xkcd state_machine](images/na.png)\n",
    "\n",
    "![xkcd state_machine](images/options.png)"
   ]
  },
  {
   "cell_type": "code",
   "execution_count": 41,
   "metadata": {
    "collapsed": true
   },
   "outputs": [],
   "source": [
    "from state_machine import acts_as_state_machine, State, before, \\\n",
    "                        after, Event"
   ]
  },
  {
   "cell_type": "code",
   "execution_count": 55,
   "metadata": {
    "collapsed": false
   },
   "outputs": [],
   "source": [
    "@acts_as_state_machine\n",
    "class Hero(object):\n",
    "        \n",
    "    name = 'Rey'\n",
    "    sleeping = State(initial=True)\n",
    "    running = State()\n",
    "    fighting = State()\n",
    "    hs = 7\n",
    "    run = Event(from_states=sleeping, to_state=running)\n",
    "    fight = Event(from_states=running, to_state=fighting)\n",
    "    sleep = Event(from_states=(sleeping, running, fighting), to_state=sleeping)\n",
    "\n",
    "    @before('sleep')\n",
    "    def do_one_thing(self):\n",
    "        print(\"{} is sleepy, I only have {} hs of sleep\".format(self.name, self.hs))\n",
    "\n",
    "    @before('fight')\n",
    "    def do_another_thing(self):\n",
    "        print(\"{} has to fight\".format(self.name))\n",
    "\n",
    "    @before('run')\n",
    "    def do_another_thing(self):\n",
    "        print(\"{} has to run\".format(self.name))\n",
    "\n",
    "    @after('run')\n",
    "    def do_the_run(self):\n",
    "        print(\"run {} run\".format(self.name))\n",
    "        \n",
    "    @after('sleep')\n",
    "    def snore(self):\n",
    "        self.hs += 1\n",
    "        print(\"Zzzzzzzzzzzz\")\n",
    "\n",
    "    @after('fight')\n",
    "    def do_other_thing(self):\n",
    "        print(\"fight fight fight!\")"
   ]
  },
  {
   "cell_type": "code",
   "execution_count": 56,
   "metadata": {
    "collapsed": false
   },
   "outputs": [
    {
     "name": "stdout",
     "output_type": "stream",
     "text": [
      "True\n",
      "Rey has to run\n",
      "run Rey run\n",
      "Rey has to fight\n",
      "fight fight fight!\n",
      "Rey is sleepy, I only have 7 hs of sleep\n",
      "Zzzzzzzzzzzz\n"
     ]
    }
   ],
   "source": [
    "rey = Hero()\n",
    "assert(rey.current_state == rey.sleeping)\n",
    "print(rey.is_sleeping)\n",
    "rey.run()\n",
    "assert(rey.current_state == rey.running)\n",
    "rey.fight()\n",
    "assert(rey.current_state == rey.fighting)\n",
    "rey.sleep()\n",
    "assert(rey.current_state == rey.sleeping)"
   ]
  },
  {
   "cell_type": "code",
   "execution_count": 60,
   "metadata": {
    "collapsed": false
   },
   "outputs": [
    {
     "name": "stdout",
     "output_type": "stream",
     "text": [
      "Rey is sleepy, I only have 11 hs of sleep\n",
      "Zzzzzzzzzzzz\n"
     ]
    }
   ],
   "source": [
    "rey.sleep()\n",
    "assert(rey.current_state == rey.sleeping)"
   ]
  },
  {
   "cell_type": "code",
   "execution_count": 61,
   "metadata": {
    "collapsed": false
   },
   "outputs": [
    {
     "ename": "InvalidStateTransition",
     "evalue": "",
     "output_type": "error",
     "traceback": [
      "\u001b[0;31m--------------------------------------------------------------------------\u001b[0m",
      "\u001b[0;31mInvalidStateTransition\u001b[0m                   Traceback (most recent call last)",
      "\u001b[0;32m<ipython-input-61-57a41e8c6452>\u001b[0m in \u001b[0;36m<module>\u001b[0;34m()\u001b[0m\n\u001b[0;32m----> 1\u001b[0;31m \u001b[0mrey\u001b[0m\u001b[0;34m.\u001b[0m\u001b[0mfight\u001b[0m\u001b[0;34m(\u001b[0m\u001b[0;34m)\u001b[0m\u001b[0;34m\u001b[0m\u001b[0m\n\u001b[0m\u001b[1;32m      2\u001b[0m \u001b[0;32massert\u001b[0m\u001b[0;34m(\u001b[0m\u001b[0mrey\u001b[0m\u001b[0;34m.\u001b[0m\u001b[0mcurrent_state\u001b[0m \u001b[0;34m==\u001b[0m \u001b[0mrey\u001b[0m\u001b[0;34m.\u001b[0m\u001b[0mfighting\u001b[0m\u001b[0;34m)\u001b[0m\u001b[0;34m\u001b[0m\u001b[0m\n",
      "\u001b[0;32m/usr/lib/python3.6/site-packages/state_machine/orm/base.py\u001b[0m in \u001b[0;36mf\u001b[0;34m(self)\u001b[0m\n\u001b[1;32m     49\u001b[0m                         \u001b[0;31m#assert current state\u001b[0m\u001b[0;34m\u001b[0m\u001b[0;34m\u001b[0m\u001b[0m\n\u001b[1;32m     50\u001b[0m                         \u001b[0;32mif\u001b[0m \u001b[0mself\u001b[0m\u001b[0;34m.\u001b[0m\u001b[0mcurrent_state\u001b[0m \u001b[0;32mnot\u001b[0m \u001b[0;32min\u001b[0m \u001b[0mevent_description\u001b[0m\u001b[0;34m.\u001b[0m\u001b[0mfrom_states\u001b[0m\u001b[0;34m:\u001b[0m\u001b[0;34m\u001b[0m\u001b[0m\n\u001b[0;32m---> 51\u001b[0;31m                             \u001b[0;32mraise\u001b[0m \u001b[0mInvalidStateTransition\u001b[0m\u001b[0;34m\u001b[0m\u001b[0m\n\u001b[0m\u001b[1;32m     52\u001b[0m \u001b[0;34m\u001b[0m\u001b[0m\n\u001b[1;32m     53\u001b[0m                         \u001b[0;31m# fire before_change\u001b[0m\u001b[0;34m\u001b[0m\u001b[0;34m\u001b[0m\u001b[0m\n",
      "\u001b[0;31mInvalidStateTransition\u001b[0m: "
     ]
    }
   ],
   "source": [
    "rey.fight()\n",
    "assert(rey.current_state == rey.fighting)"
   ]
  },
  {
   "cell_type": "code",
   "execution_count": 62,
   "metadata": {
    "collapsed": false
   },
   "outputs": [
    {
     "name": "stdout",
     "output_type": "stream",
     "text": [
      "Rey has to run\n",
      "run Rey run\n",
      "Rey has to fight\n",
      "fight fight fight!\n"
     ]
    },
    {
     "ename": "InvalidStateTransition",
     "evalue": "",
     "output_type": "error",
     "traceback": [
      "\u001b[0;31m--------------------------------------------------------------------------\u001b[0m",
      "\u001b[0;31mInvalidStateTransition\u001b[0m                   Traceback (most recent call last)",
      "\u001b[0;32m<ipython-input-62-82899b6f1c49>\u001b[0m in \u001b[0;36m<module>\u001b[0;34m()\u001b[0m\n\u001b[1;32m      1\u001b[0m \u001b[0mrey\u001b[0m\u001b[0;34m.\u001b[0m\u001b[0mrun\u001b[0m\u001b[0;34m(\u001b[0m\u001b[0;34m)\u001b[0m\u001b[0;34m\u001b[0m\u001b[0m\n\u001b[1;32m      2\u001b[0m \u001b[0mrey\u001b[0m\u001b[0;34m.\u001b[0m\u001b[0mfight\u001b[0m\u001b[0;34m(\u001b[0m\u001b[0;34m)\u001b[0m\u001b[0;34m\u001b[0m\u001b[0m\n\u001b[0;32m----> 3\u001b[0;31m \u001b[0mrey\u001b[0m\u001b[0;34m.\u001b[0m\u001b[0mfight\u001b[0m\u001b[0;34m(\u001b[0m\u001b[0;34m)\u001b[0m\u001b[0;34m\u001b[0m\u001b[0m\n\u001b[0m",
      "\u001b[0;32m/usr/lib/python3.6/site-packages/state_machine/orm/base.py\u001b[0m in \u001b[0;36mf\u001b[0;34m(self)\u001b[0m\n\u001b[1;32m     49\u001b[0m                         \u001b[0;31m#assert current state\u001b[0m\u001b[0;34m\u001b[0m\u001b[0;34m\u001b[0m\u001b[0m\n\u001b[1;32m     50\u001b[0m                         \u001b[0;32mif\u001b[0m \u001b[0mself\u001b[0m\u001b[0;34m.\u001b[0m\u001b[0mcurrent_state\u001b[0m \u001b[0;32mnot\u001b[0m \u001b[0;32min\u001b[0m \u001b[0mevent_description\u001b[0m\u001b[0;34m.\u001b[0m\u001b[0mfrom_states\u001b[0m\u001b[0;34m:\u001b[0m\u001b[0;34m\u001b[0m\u001b[0m\n\u001b[0;32m---> 51\u001b[0;31m                             \u001b[0;32mraise\u001b[0m \u001b[0mInvalidStateTransition\u001b[0m\u001b[0;34m\u001b[0m\u001b[0m\n\u001b[0m\u001b[1;32m     52\u001b[0m \u001b[0;34m\u001b[0m\u001b[0m\n\u001b[1;32m     53\u001b[0m                         \u001b[0;31m# fire before_change\u001b[0m\u001b[0;34m\u001b[0m\u001b[0;34m\u001b[0m\u001b[0m\n",
      "\u001b[0;31mInvalidStateTransition\u001b[0m: "
     ]
    }
   ],
   "source": [
    "rey.run()\n",
    "rey.fight()\n",
    "rey.fight()"
   ]
  }
 ],
 "metadata": {
  "kernelspec": {
   "display_name": "Python 3",
   "language": "python",
   "name": "python3"
  },
  "language_info": {
   "codemirror_mode": {
    "name": "ipython",
    "version": 3
   },
   "file_extension": ".py",
   "mimetype": "text/x-python",
   "name": "python",
   "nbconvert_exporter": "python",
   "pygments_lexer": "ipython3",
   "version": "3.6.0"
  }
 },
 "nbformat": 4,
 "nbformat_minor": 2
}
