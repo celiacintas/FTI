{
 "cells": [
  {
   "cell_type": "code",
   "execution_count": 5,
   "metadata": {
    "collapsed": true,
    "deletable": true,
    "editable": true
   },
   "outputs": [],
   "source": [
    "import json\n",
    "import pprint\n",
    "from grako import parse\n",
    "from grako.util import asjson"
   ]
  },
  {
   "cell_type": "markdown",
   "metadata": {
    "deletable": true,
    "editable": true
   },
   "source": [
    "### Definimos la gramática"
   ]
  },
  {
   "cell_type": "code",
   "execution_count": 44,
   "metadata": {
    "collapsed": true,
    "deletable": true,
    "editable": true
   },
   "outputs": [],
   "source": [
    "my_grammar ='''\n",
    "            @@grammar::Calc\n",
    "\n",
    "            start = expression $ ;\n",
    "\n",
    "            expression\n",
    "                =\n",
    "                | term '+' expression\n",
    "                | term '-' expression\n",
    "                | term\n",
    "                ;\n",
    "\n",
    "            term\n",
    "                =\n",
    "                | factor '*' term\n",
    "                | factor '/' term\n",
    "                | factor\n",
    "                ;\n",
    "\n",
    "            factor\n",
    "                =\n",
    "                | '(' @:expression ')'\n",
    "                | number\n",
    "                ;\n",
    "\n",
    "            number = /\\d+/ ;\n",
    "            '''"
   ]
  },
  {
   "cell_type": "markdown",
   "metadata": {},
   "source": [
    "### Utilizamos la gramatica definida llamando parse"
   ]
  },
  {
   "cell_type": "code",
   "execution_count": 45,
   "metadata": {
    "collapsed": false,
    "deletable": true,
    "editable": true
   },
   "outputs": [
    {
     "name": "stdout",
     "output_type": "stream",
     "text": [
      "[ '3',\n",
      "  '+',\n",
      "  [ '5',\n",
      "    '*',\n",
      "    [ '10',\n",
      "      '-',\n",
      "      '20']]]\n"
     ]
    }
   ],
   "source": [
    "ast = parse(my_grammar, '3 + 5 * ( 10 - 20 )')\n",
    "pprint.pprint(ast, indent=2, width=20)\n"
   ]
  },
  {
   "cell_type": "code",
   "execution_count": 46,
   "metadata": {
    "collapsed": false
   },
   "outputs": [
    {
     "name": "stdout",
     "output_type": "stream",
     "text": [
      "[\n",
      "  \"3\",\n",
      "  \"+\",\n",
      "  [\n",
      "    \"5\",\n",
      "    \"*\",\n",
      "    [\n",
      "      \"10\",\n",
      "      \"-\",\n",
      "      \"20\"\n",
      "    ]\n",
      "  ]\n",
      "]\n"
     ]
    }
   ],
   "source": [
    "json_ast = asjson(ast)\n",
    "print(json.dumps(json_ast, indent=2))\n"
   ]
  },
  {
   "cell_type": "markdown",
   "metadata": {
    "collapsed": false,
    "deletable": true,
    "editable": true
   },
   "source": [
    "### Compilando gramáticas a Python"
   ]
  },
  {
   "cell_type": "code",
   "execution_count": 11,
   "metadata": {
    "collapsed": false,
    "deletable": true,
    "editable": true
   },
   "outputs": [
    {
     "name": "stdout",
     "output_type": "stream",
     "text": [
      "usage: grako\r\n",
      "             [--generate-parser | --draw | --object-model | --pretty | --pretty-lean]\r\n",
      "             [--color] [--trace] [--no-left-recursion] [--name NAME]\r\n",
      "             [--no-nameguard] [--outfile FILE] [--object-model-outfile FILE]\r\n",
      "             [--whitespace CHARACTERS] [--help] [--version]\r\n",
      "             GRAMMAR\r\n",
      "grako: error: the following arguments are required: GRAMMAR\r\n"
     ]
    }
   ],
   "source": [
    "!python3 -m grako"
   ]
  },
  {
   "cell_type": "code",
   "execution_count": 21,
   "metadata": {
    "collapsed": true
   },
   "outputs": [],
   "source": [
    "while_exp = '''d = '0' | '1' | '2' | '3' | '4' | '5' | '6' | '7' | '8' | '9';\n",
    "\n",
    "            digito = d {d};\n",
    "\n",
    "            min = 'a'|'b'|'c'|'d'|'e'|'f'|'g'|'h'|'i'|'j'|'k'|'l'|'m'|'n'|'o'|'p'|'q'|'r'|'s'|'t'|'u'|'v'|'w'|'x'|'y'|'z';\n",
    "\n",
    "            mayus = 'A'|'B'|'C'|'D'|'E'|'F'|'G'|'H'|'I'|'J'|'K'|'L'|'M'|'N'|'O'|'P'|'q'|'R'|'s'|'T'|'U'|'V'|'W'|'X'|'Y'|'Z';\n",
    "\n",
    "            letra = (min | mayus);\n",
    "\n",
    "            var = ((letra | '_') {letra | digito | '_'}*);\n",
    "\n",
    "            operador = '=='|'!='|'<'|'>'|'<='|'>='|'and'|'or'|'true'|'false'|'not';\n",
    "\n",
    "            expresion = '('(var | digito) operador (var | digito)')';\n",
    "\n",
    "            while = 'while' expresion ':' 'instrucciones'  [\"else\" \":\" 'instrucciones'];\n",
    "            '''"
   ]
  },
  {
   "cell_type": "code",
   "execution_count": 47,
   "metadata": {
    "collapsed": true
   },
   "outputs": [],
   "source": [
    "with open(\"data/while_exp.txt\", \"w\") as text_file:\n",
    "    print(while_exp, file=text_file)"
   ]
  },
  {
   "cell_type": "code",
   "execution_count": 48,
   "metadata": {
    "collapsed": false
   },
   "outputs": [
    {
     "name": "stdout",
     "output_type": "stream",
     "text": [
      "#!/usr/bin/env python\r\n",
      "# -*- coding: utf-8 -*-\r\n",
      "\r\n",
      "# CAVEAT UTILITOR\r\n",
      "#\r\n",
      "# This file was automatically generated by Grako.\r\n",
      "#\r\n",
      "#    https://pypi.python.org/pypi/grako/\r\n",
      "#\r\n",
      "# Any changes you make to it will be overwritten the next time\r\n",
      "# the file is generated.\r\n",
      "\r\n",
      "\r\n",
      "from __future__ import print_function, division, absolute_import, unicode_literals\r\n",
      "\r\n",
      "from grako.buffering import Buffer\r\n",
      "from grako.parsing import graken, Parser\r\n",
      "from grako.util import re, RE_FLAGS, generic_main  # noqa\r\n",
      "\r\n",
      "\r\n",
      "KEYWORDS = {}\r\n",
      "\r\n",
      "\r\n",
      "class myBuffer(Buffer):\r\n",
      "    def __init__(\r\n",
      "        self,\r\n",
      "        text,\r\n",
      "        whitespace=None,\r\n",
      "        nameguard=None,\r\n",
      "        comments_re=None,\r\n",
      "        eol_comments_re=None,\r\n",
      "        ignorecase=None,\r\n",
      "        namechars='',\r\n",
      "        **kwargs\r\n",
      "    ):\r\n",
      "        super(myBuffer, self).__init__(\r\n",
      "            text,\r\n",
      "            whitespace=whitespace,\r\n",
      "            nameguard=nameguard,\r\n",
      "            comments_re=comments_re,\r\n",
      "            eol_comments_re=eol_comments_re,\r\n",
      "            ignorecase=ignorecase,\r\n",
      "            namechars=namechars,\r\n",
      "            **kwargs\r\n",
      "        )\r\n",
      "\r\n",
      "\r\n",
      "class myParser(Parser):\r\n",
      "    def __init__(\r\n",
      "        self,\r\n",
      "        whitespace=None,\r\n",
      "        nameguard=None,\r\n",
      "        comments_re=None,\r\n",
      "        eol_comments_re=None,\r\n",
      "        ignorecase=None,\r\n",
      "        left_recursion=False,\r\n",
      "        parseinfo=True,\r\n",
      "        keywords=None,\r\n",
      "        namechars='',\r\n",
      "        buffer_class=myBuffer,\r\n",
      "        **kwargs\r\n",
      "    ):\r\n",
      "        if keywords is None:\r\n",
      "            keywords = KEYWORDS\r\n",
      "        super(myParser, self).__init__(\r\n",
      "            whitespace=whitespace,\r\n",
      "            nameguard=nameguard,\r\n",
      "            comments_re=comments_re,\r\n",
      "            eol_comments_re=eol_comments_re,\r\n",
      "            ignorecase=ignorecase,\r\n",
      "            left_recursion=left_recursion,\r\n",
      "            parseinfo=parseinfo,\r\n",
      "            keywords=keywords,\r\n",
      "            namechars=namechars,\r\n",
      "            buffer_class=buffer_class,\r\n",
      "            **kwargs\r\n",
      "        )\r\n",
      "\r\n",
      "    @graken()\r\n",
      "    def _d_(self):\r\n",
      "        with self._choice():\r\n",
      "            with self._option():\r\n",
      "                self._token('0')\r\n",
      "            with self._option():\r\n",
      "                self._token('1')\r\n",
      "            with self._option():\r\n",
      "                self._token('2')\r\n",
      "            with self._option():\r\n",
      "                self._token('3')\r\n",
      "            with self._option():\r\n",
      "                self._token('4')\r\n",
      "            with self._option():\r\n",
      "                self._token('5')\r\n",
      "            with self._option():\r\n",
      "                self._token('6')\r\n",
      "            with self._option():\r\n",
      "                self._token('7')\r\n",
      "            with self._option():\r\n",
      "                self._token('8')\r\n",
      "            with self._option():\r\n",
      "                self._token('9')\r\n",
      "            self._error('expecting one of: 0 1 2 3 4 5 6 7 8 9')\r\n",
      "\r\n",
      "    @graken()\r\n",
      "    def _digito_(self):\r\n",
      "        self._d_()\r\n",
      "\r\n",
      "        def block0():\r\n",
      "            self._d_()\r\n",
      "        self._closure(block0)\r\n",
      "\r\n",
      "    @graken()\r\n",
      "    def _min_(self):\r\n",
      "        with self._choice():\r\n",
      "            with self._option():\r\n",
      "                self._token('a')\r\n",
      "            with self._option():\r\n",
      "                self._token('b')\r\n",
      "            with self._option():\r\n",
      "                self._token('c')\r\n",
      "            with self._option():\r\n",
      "                self._token('d')\r\n",
      "            with self._option():\r\n",
      "                self._token('e')\r\n",
      "            with self._option():\r\n",
      "                self._token('f')\r\n",
      "            with self._option():\r\n",
      "                self._token('g')\r\n",
      "            with self._option():\r\n",
      "                self._token('h')\r\n",
      "            with self._option():\r\n",
      "                self._token('i')\r\n",
      "            with self._option():\r\n",
      "                self._token('j')\r\n",
      "            with self._option():\r\n",
      "                self._token('k')\r\n",
      "            with self._option():\r\n",
      "                self._token('l')\r\n",
      "            with self._option():\r\n",
      "                self._token('m')\r\n",
      "            with self._option():\r\n",
      "                self._token('n')\r\n",
      "            with self._option():\r\n",
      "                self._token('o')\r\n",
      "            with self._option():\r\n",
      "                self._token('p')\r\n",
      "            with self._option():\r\n",
      "                self._token('q')\r\n",
      "            with self._option():\r\n",
      "                self._token('r')\r\n",
      "            with self._option():\r\n",
      "                self._token('s')\r\n",
      "            with self._option():\r\n",
      "                self._token('t')\r\n",
      "            with self._option():\r\n",
      "                self._token('u')\r\n",
      "            with self._option():\r\n",
      "                self._token('v')\r\n",
      "            with self._option():\r\n",
      "                self._token('w')\r\n",
      "            with self._option():\r\n",
      "                self._token('x')\r\n",
      "            with self._option():\r\n",
      "                self._token('y')\r\n",
      "            with self._option():\r\n",
      "                self._token('z')\r\n",
      "            self._error('expecting one of: a b c d e f g h i j k l m n o p q r s t u v w x y z')\r\n",
      "\r\n",
      "    @graken()\r\n",
      "    def _mayus_(self):\r\n",
      "        with self._choice():\r\n",
      "            with self._option():\r\n",
      "                self._token('A')\r\n",
      "            with self._option():\r\n",
      "                self._token('B')\r\n",
      "            with self._option():\r\n",
      "                self._token('C')\r\n",
      "            with self._option():\r\n",
      "                self._token('D')\r\n",
      "            with self._option():\r\n",
      "                self._token('E')\r\n",
      "            with self._option():\r\n",
      "                self._token('F')\r\n",
      "            with self._option():\r\n",
      "                self._token('G')\r\n",
      "            with self._option():\r\n",
      "                self._token('H')\r\n",
      "            with self._option():\r\n",
      "                self._token('I')\r\n",
      "            with self._option():\r\n",
      "                self._token('J')\r\n",
      "            with self._option():\r\n",
      "                self._token('K')\r\n",
      "            with self._option():\r\n",
      "                self._token('L')\r\n",
      "            with self._option():\r\n",
      "                self._token('M')\r\n",
      "            with self._option():\r\n",
      "                self._token('N')\r\n",
      "            with self._option():\r\n",
      "                self._token('O')\r\n",
      "            with self._option():\r\n",
      "                self._token('P')\r\n",
      "            with self._option():\r\n",
      "                self._token('q')\r\n",
      "            with self._option():\r\n",
      "                self._token('R')\r\n",
      "            with self._option():\r\n",
      "                self._token('s')\r\n",
      "            with self._option():\r\n",
      "                self._token('T')\r\n",
      "            with self._option():\r\n",
      "                self._token('U')\r\n",
      "            with self._option():\r\n",
      "                self._token('V')\r\n",
      "            with self._option():\r\n",
      "                self._token('W')\r\n",
      "            with self._option():\r\n",
      "                self._token('X')\r\n",
      "            with self._option():\r\n",
      "                self._token('Y')\r\n",
      "            with self._option():\r\n",
      "                self._token('Z')\r\n",
      "            self._error('expecting one of: A B C D E F G H I J K L M N O P R T U V W X Y Z q s')\r\n",
      "\r\n",
      "    @graken()\r\n",
      "    def _letra_(self):\r\n",
      "        with self._group():\r\n",
      "            with self._choice():\r\n",
      "                with self._option():\r\n",
      "                    self._min_()\r\n",
      "                with self._option():\r\n",
      "                    self._mayus_()\r\n",
      "                self._error('no available options')\r\n",
      "\r\n",
      "    @graken()\r\n",
      "    def _var_(self):\r\n",
      "        with self._group():\r\n",
      "            with self._group():\r\n",
      "                with self._choice():\r\n",
      "                    with self._option():\r\n",
      "                        self._letra_()\r\n",
      "                    with self._option():\r\n",
      "                        self._token('_')\r\n",
      "                    self._error('expecting one of: _')\r\n",
      "\r\n",
      "            def block1():\r\n",
      "                with self._choice():\r\n",
      "                    with self._option():\r\n",
      "                        self._letra_()\r\n",
      "                    with self._option():\r\n",
      "                        self._digito_()\r\n",
      "                    with self._option():\r\n",
      "                        self._token('_')\r\n",
      "                    self._error('expecting one of: _')\r\n",
      "            self._closure(block1)\r\n",
      "\r\n",
      "    @graken()\r\n",
      "    def _operador_(self):\r\n",
      "        with self._choice():\r\n",
      "            with self._option():\r\n",
      "                self._token('==')\r\n",
      "            with self._option():\r\n",
      "                self._token('!=')\r\n",
      "            with self._option():\r\n",
      "                self._token('<')\r\n",
      "            with self._option():\r\n",
      "                self._token('>')\r\n",
      "            with self._option():\r\n",
      "                self._token('<=')\r\n",
      "            with self._option():\r\n",
      "                self._token('>=')\r\n",
      "            with self._option():\r\n",
      "                self._token('and')\r\n",
      "            with self._option():\r\n",
      "                self._token('or')\r\n",
      "            with self._option():\r\n",
      "                self._token('true')\r\n",
      "            with self._option():\r\n",
      "                self._token('false')\r\n",
      "            with self._option():\r\n",
      "                self._token('not')\r\n",
      "            self._error('expecting one of: != < <= == > >= and false not or true')\r\n",
      "\r\n",
      "    @graken()\r\n",
      "    def _expresion_(self):\r\n",
      "        self._token('(')\r\n",
      "        with self._group():\r\n",
      "            with self._choice():\r\n",
      "                with self._option():\r\n",
      "                    self._var_()\r\n",
      "                with self._option():\r\n",
      "                    self._digito_()\r\n",
      "                self._error('no available options')\r\n",
      "        self._operador_()\r\n",
      "        with self._group():\r\n",
      "            with self._choice():\r\n",
      "                with self._option():\r\n",
      "                    self._var_()\r\n",
      "                with self._option():\r\n",
      "                    self._digito_()\r\n",
      "                self._error('no available options')\r\n",
      "        self._token(')')\r\n",
      "\r\n",
      "    @graken()\r\n",
      "    def _while_(self):\r\n",
      "        self._token('while')\r\n",
      "        self._expresion_()\r\n",
      "        self._token(':')\r\n",
      "        self._token('instrucciones')\r\n",
      "        with self._optional():\r\n",
      "            self._token('else')\r\n",
      "            self._token(':')\r\n",
      "            self._token('instrucciones')\r\n",
      "\r\n",
      "\r\n",
      "class mySemantics(object):\r\n",
      "    def d(self, ast):\r\n",
      "        return ast\r\n",
      "\r\n",
      "    def digito(self, ast):\r\n",
      "        return ast\r\n",
      "\r\n",
      "    def min(self, ast):\r\n",
      "        return ast\r\n",
      "\r\n",
      "    def mayus(self, ast):\r\n",
      "        return ast\r\n",
      "\r\n",
      "    def letra(self, ast):\r\n",
      "        return ast\r\n",
      "\r\n",
      "    def var(self, ast):\r\n",
      "        return ast\r\n",
      "\r\n",
      "    def operador(self, ast):\r\n",
      "        return ast\r\n",
      "\r\n",
      "    def expresion(self, ast):\r\n",
      "        return ast\r\n",
      "\r\n",
      "    def while_(self, ast):\r\n",
      "        return ast\r\n",
      "\r\n",
      "\r\n",
      "def main(filename, startrule, **kwargs):\r\n",
      "    with open(filename) as f:\r\n",
      "        text = f.read()\r\n",
      "    parser = myParser()\r\n",
      "    return parser.parse(text, startrule, filename=filename, **kwargs)\r\n",
      "\r\n",
      "\r\n",
      "if __name__ == '__main__':\r\n",
      "    import json\r\n",
      "    from grako.util import asjson\r\n",
      "\r\n",
      "    ast = generic_main(main, myParser, name='my')\r\n",
      "    print('AST:')\r\n",
      "    print(ast)\r\n",
      "    print()\r\n",
      "    print('JSON:')\r\n",
      "    print(json.dumps(asjson(ast), indent=2))\r\n",
      "    print()\r\n",
      "\r\n",
      "------------------------------------------------------------------------\r\n",
      "          67  lines in grammar\r\n",
      "           9  rules in grammar\r\n",
      "         128  nodes in AST\r\n"
     ]
    }
   ],
   "source": [
    "!python3 -m grako --name my --generate-parser data/while_exp.txt"
   ]
  },
  {
   "cell_type": "code",
   "execution_count": 49,
   "metadata": {
    "collapsed": false
   },
   "outputs": [
    {
     "name": "stdout",
     "output_type": "stream",
     "text": [
      "------------------------------------------------------------------------\r\n",
      "          67  lines in grammar\r\n",
      "           9  rules in grammar\r\n",
      "         128  nodes in AST\r\n"
     ]
    }
   ],
   "source": [
    "!python3 -m grako --name my --generate-parser data/while_exp.txt -o generated.py"
   ]
  },
  {
   "cell_type": "code",
   "execution_count": 50,
   "metadata": {
    "collapsed": true
   },
   "outputs": [],
   "source": [
    "test_ok = r'''while (a > 3):\n",
    "             instrucciones'''"
   ]
  },
  {
   "cell_type": "code",
   "execution_count": 51,
   "metadata": {
    "collapsed": false
   },
   "outputs": [
    {
     "name": "stdout",
     "output_type": "stream",
     "text": [
      "['while', ['(', 'a', [], '>', '3', [], ')'], ':', 'instrucciones']\n",
      "[\n",
      "  \"while\",\n",
      "  [\n",
      "    \"(\",\n",
      "    \"a\",\n",
      "    [],\n",
      "    \">\",\n",
      "    \"3\",\n",
      "    [],\n",
      "    \")\"\n",
      "  ],\n",
      "  \":\",\n",
      "  \"instrucciones\"\n",
      "]\n"
     ]
    }
   ],
   "source": [
    "from generated import myParser \n",
    "\n",
    "parser = myParser()\n",
    "ast = parser.parse(test_ok, rule_name='while')\n",
    "print(ast)\n",
    "print(json.dumps(ast, indent=2))"
   ]
  },
  {
   "cell_type": "code",
   "execution_count": 52,
   "metadata": {
    "collapsed": true
   },
   "outputs": [],
   "source": [
    "test_not_ok = r'''while (a > 3)\n",
    "             instrucciones'''"
   ]
  },
  {
   "cell_type": "code",
   "execution_count": 53,
   "metadata": {
    "collapsed": false
   },
   "outputs": [
    {
     "ename": "FailedToken",
     "evalue": "(2:14) expecting ':' :\n             instrucciones\n             ^\nwhile",
     "output_type": "error",
     "traceback": [
      "\u001b[0;31m--------------------------------------------------------------------------\u001b[0m",
      "\u001b[0;31mFailedToken\u001b[0m                              Traceback (most recent call last)",
      "\u001b[0;32m<ipython-input-53-1a01bdb13597>\u001b[0m in \u001b[0;36m<module>\u001b[0;34m()\u001b[0m\n\u001b[0;32m----> 1\u001b[0;31m \u001b[0mast\u001b[0m \u001b[0;34m=\u001b[0m \u001b[0mparser\u001b[0m\u001b[0;34m.\u001b[0m\u001b[0mparse\u001b[0m\u001b[0;34m(\u001b[0m\u001b[0mtest_not_ok\u001b[0m\u001b[0;34m,\u001b[0m \u001b[0mrule_name\u001b[0m\u001b[0;34m=\u001b[0m\u001b[0;34m'while'\u001b[0m\u001b[0;34m)\u001b[0m\u001b[0;34m\u001b[0m\u001b[0m\n\u001b[0m\u001b[1;32m      2\u001b[0m \u001b[0mprint\u001b[0m\u001b[0;34m(\u001b[0m\u001b[0mast\u001b[0m\u001b[0;34m)\u001b[0m\u001b[0;34m\u001b[0m\u001b[0m\n\u001b[1;32m      3\u001b[0m \u001b[0mprint\u001b[0m\u001b[0;34m(\u001b[0m\u001b[0mjson\u001b[0m\u001b[0;34m.\u001b[0m\u001b[0mdumps\u001b[0m\u001b[0;34m(\u001b[0m\u001b[0mast\u001b[0m\u001b[0;34m,\u001b[0m \u001b[0mindent\u001b[0m\u001b[0;34m=\u001b[0m\u001b[0;36m2\u001b[0m\u001b[0;34m)\u001b[0m\u001b[0;34m)\u001b[0m\u001b[0;34m\u001b[0m\u001b[0m\n",
      "\u001b[0;32m/usr/lib/python3.6/site-packages/grako/contexts.py\u001b[0m in \u001b[0;36mparse\u001b[0;34m(self, text, rule_name, filename, buffer_class, semantics, trace, whitespace, **kwargs)\u001b[0m\n\u001b[1;32m    206\u001b[0m         \u001b[0;32mexcept\u001b[0m \u001b[0mFailedParse\u001b[0m \u001b[0;32mas\u001b[0m \u001b[0me\u001b[0m\u001b[0;34m:\u001b[0m\u001b[0;34m\u001b[0m\u001b[0m\n\u001b[1;32m    207\u001b[0m             \u001b[0mself\u001b[0m\u001b[0;34m.\u001b[0m\u001b[0m_set_furthest_exception\u001b[0m\u001b[0;34m(\u001b[0m\u001b[0me\u001b[0m\u001b[0;34m)\u001b[0m\u001b[0;34m\u001b[0m\u001b[0m\n\u001b[0;32m--> 208\u001b[0;31m             \u001b[0;32mraise\u001b[0m \u001b[0mself\u001b[0m\u001b[0;34m.\u001b[0m\u001b[0m_furthest_exception\u001b[0m\u001b[0;34m\u001b[0m\u001b[0m\n\u001b[0m\u001b[1;32m    209\u001b[0m         \u001b[0;32mfinally\u001b[0m\u001b[0;34m:\u001b[0m\u001b[0;34m\u001b[0m\u001b[0m\n\u001b[1;32m    210\u001b[0m             \u001b[0mself\u001b[0m\u001b[0;34m.\u001b[0m\u001b[0m_clear_cache\u001b[0m\u001b[0;34m(\u001b[0m\u001b[0;34m)\u001b[0m\u001b[0;34m\u001b[0m\u001b[0m\n",
      "\u001b[0;32m/usr/lib/python3.6/site-packages/grako/contexts.py\u001b[0m in \u001b[0;36mparse\u001b[0;34m(self, text, rule_name, filename, buffer_class, semantics, trace, whitespace, **kwargs)\u001b[0m\n\u001b[1;32m    198\u001b[0m             )\n\u001b[1;32m    199\u001b[0m             \u001b[0mrule\u001b[0m \u001b[0;34m=\u001b[0m \u001b[0mself\u001b[0m\u001b[0;34m.\u001b[0m\u001b[0m_find_rule\u001b[0m\u001b[0;34m(\u001b[0m\u001b[0mrule_name\u001b[0m\u001b[0;34m)\u001b[0m\u001b[0;34m\u001b[0m\u001b[0m\n\u001b[0;32m--> 200\u001b[0;31m             \u001b[0mresult\u001b[0m \u001b[0;34m=\u001b[0m \u001b[0mrule\u001b[0m\u001b[0;34m(\u001b[0m\u001b[0;34m)\u001b[0m\u001b[0;34m\u001b[0m\u001b[0m\n\u001b[0m\u001b[1;32m    201\u001b[0m             \u001b[0mself\u001b[0m\u001b[0;34m.\u001b[0m\u001b[0mast\u001b[0m\u001b[0;34m[\u001b[0m\u001b[0mrule_name\u001b[0m\u001b[0;34m]\u001b[0m \u001b[0;34m=\u001b[0m \u001b[0mresult\u001b[0m\u001b[0;34m\u001b[0m\u001b[0m\n\u001b[1;32m    202\u001b[0m             \u001b[0;32mreturn\u001b[0m \u001b[0mresult\u001b[0m\u001b[0;34m\u001b[0m\u001b[0m\n",
      "\u001b[0;32m/usr/lib/python3.6/site-packages/grako/contexts.py\u001b[0m in \u001b[0;36mwrapper\u001b[0;34m(self)\u001b[0m\n\u001b[1;32m     46\u001b[0m             \u001b[0;31m# that the parser generator added\u001b[0m\u001b[0;34m\u001b[0m\u001b[0;34m\u001b[0m\u001b[0m\n\u001b[1;32m     47\u001b[0m             \u001b[0mname\u001b[0m \u001b[0;34m=\u001b[0m \u001b[0mname\u001b[0m\u001b[0;34m[\u001b[0m\u001b[0;36m1\u001b[0m\u001b[0;34m:\u001b[0m\u001b[0;34m-\u001b[0m\u001b[0;36m1\u001b[0m\u001b[0;34m]\u001b[0m\u001b[0;34m\u001b[0m\u001b[0m\n\u001b[0;32m---> 48\u001b[0;31m             \u001b[0;32mreturn\u001b[0m \u001b[0mself\u001b[0m\u001b[0;34m.\u001b[0m\u001b[0m_call\u001b[0m\u001b[0;34m(\u001b[0m\u001b[0mrule\u001b[0m\u001b[0;34m,\u001b[0m \u001b[0mname\u001b[0m\u001b[0;34m,\u001b[0m \u001b[0mparams\u001b[0m\u001b[0;34m,\u001b[0m \u001b[0mkwparams\u001b[0m\u001b[0;34m)\u001b[0m\u001b[0;34m\u001b[0m\u001b[0m\n\u001b[0m\u001b[1;32m     49\u001b[0m         \u001b[0;32mreturn\u001b[0m \u001b[0mwrapper\u001b[0m\u001b[0;34m\u001b[0m\u001b[0m\n\u001b[1;32m     50\u001b[0m     \u001b[0;32mreturn\u001b[0m \u001b[0mdecorator\u001b[0m\u001b[0;34m\u001b[0m\u001b[0m\n",
      "\u001b[0;32m/usr/lib/python3.6/site-packages/grako/contexts.py\u001b[0m in \u001b[0;36m_call\u001b[0;34m(self, rule, name, params, kwparams)\u001b[0m\n\u001b[1;32m    454\u001b[0m             \u001b[0mself\u001b[0m\u001b[0;34m.\u001b[0m\u001b[0m_last_node\u001b[0m \u001b[0;34m=\u001b[0m \u001b[0;32mNone\u001b[0m\u001b[0;34m\u001b[0m\u001b[0m\n\u001b[1;32m    455\u001b[0m \u001b[0;34m\u001b[0m\u001b[0m\n\u001b[0;32m--> 456\u001b[0;31m             \u001b[0mnode\u001b[0m\u001b[0;34m,\u001b[0m \u001b[0mnewpos\u001b[0m\u001b[0;34m,\u001b[0m \u001b[0mnewstate\u001b[0m \u001b[0;34m=\u001b[0m \u001b[0mself\u001b[0m\u001b[0;34m.\u001b[0m\u001b[0m_invoke_rule\u001b[0m\u001b[0;34m(\u001b[0m\u001b[0mrule\u001b[0m\u001b[0;34m,\u001b[0m \u001b[0mname\u001b[0m\u001b[0;34m,\u001b[0m \u001b[0mparams\u001b[0m\u001b[0;34m,\u001b[0m \u001b[0mkwparams\u001b[0m\u001b[0;34m)\u001b[0m\u001b[0;34m\u001b[0m\u001b[0m\n\u001b[0m\u001b[1;32m    457\u001b[0m \u001b[0;34m\u001b[0m\u001b[0m\n\u001b[1;32m    458\u001b[0m             \u001b[0mself\u001b[0m\u001b[0;34m.\u001b[0m\u001b[0m_goto\u001b[0m\u001b[0;34m(\u001b[0m\u001b[0mnewpos\u001b[0m\u001b[0;34m)\u001b[0m\u001b[0;34m\u001b[0m\u001b[0m\n",
      "\u001b[0;32m/usr/lib/python3.6/site-packages/grako/contexts.py\u001b[0m in \u001b[0;36m_invoke_rule\u001b[0;34m(self, rule, name, params, kwparams)\u001b[0m\n\u001b[1;32m    494\u001b[0m         \u001b[0;32mtry\u001b[0m\u001b[0;34m:\u001b[0m\u001b[0;34m\u001b[0m\u001b[0m\n\u001b[1;32m    495\u001b[0m             \u001b[0;32mtry\u001b[0m\u001b[0;34m:\u001b[0m\u001b[0;34m\u001b[0m\u001b[0m\n\u001b[0;32m--> 496\u001b[0;31m                 \u001b[0mrule\u001b[0m\u001b[0;34m(\u001b[0m\u001b[0mself\u001b[0m\u001b[0;34m)\u001b[0m\u001b[0;34m\u001b[0m\u001b[0m\n\u001b[0m\u001b[1;32m    497\u001b[0m \u001b[0;34m\u001b[0m\u001b[0m\n\u001b[1;32m    498\u001b[0m                 \u001b[0mnode\u001b[0m \u001b[0;34m=\u001b[0m \u001b[0mself\u001b[0m\u001b[0;34m.\u001b[0m\u001b[0mast\u001b[0m\u001b[0;34m\u001b[0m\u001b[0m\n",
      "\u001b[0;32m/home/celia/UNPSJB/FTI/FTI/generated.py\u001b[0m in \u001b[0;36m_while_\u001b[0;34m(self)\u001b[0m\n\u001b[1;32m    307\u001b[0m         \u001b[0mself\u001b[0m\u001b[0;34m.\u001b[0m\u001b[0m_token\u001b[0m\u001b[0;34m(\u001b[0m\u001b[0;34m'while'\u001b[0m\u001b[0;34m)\u001b[0m\u001b[0;34m\u001b[0m\u001b[0m\n\u001b[1;32m    308\u001b[0m         \u001b[0mself\u001b[0m\u001b[0;34m.\u001b[0m\u001b[0m_expresion_\u001b[0m\u001b[0;34m(\u001b[0m\u001b[0;34m)\u001b[0m\u001b[0;34m\u001b[0m\u001b[0m\n\u001b[0;32m--> 309\u001b[0;31m         \u001b[0mself\u001b[0m\u001b[0;34m.\u001b[0m\u001b[0m_token\u001b[0m\u001b[0;34m(\u001b[0m\u001b[0;34m':'\u001b[0m\u001b[0;34m)\u001b[0m\u001b[0;34m\u001b[0m\u001b[0m\n\u001b[0m\u001b[1;32m    310\u001b[0m         \u001b[0mself\u001b[0m\u001b[0;34m.\u001b[0m\u001b[0m_token\u001b[0m\u001b[0;34m(\u001b[0m\u001b[0;34m'instrucciones'\u001b[0m\u001b[0;34m)\u001b[0m\u001b[0;34m\u001b[0m\u001b[0m\n\u001b[1;32m    311\u001b[0m         \u001b[0;32mwith\u001b[0m \u001b[0mself\u001b[0m\u001b[0;34m.\u001b[0m\u001b[0m_optional\u001b[0m\u001b[0;34m(\u001b[0m\u001b[0;34m)\u001b[0m\u001b[0;34m:\u001b[0m\u001b[0;34m\u001b[0m\u001b[0m\n",
      "\u001b[0;32m/usr/lib/python3.6/site-packages/grako/contexts.py\u001b[0m in \u001b[0;36m_token\u001b[0;34m(self, token)\u001b[0m\n\u001b[1;32m    602\u001b[0m         \u001b[0;32mif\u001b[0m \u001b[0mself\u001b[0m\u001b[0;34m.\u001b[0m\u001b[0m_buffer\u001b[0m\u001b[0;34m.\u001b[0m\u001b[0mmatch\u001b[0m\u001b[0;34m(\u001b[0m\u001b[0mtoken\u001b[0m\u001b[0;34m)\u001b[0m \u001b[0;32mis\u001b[0m \u001b[0;32mNone\u001b[0m\u001b[0;34m:\u001b[0m\u001b[0;34m\u001b[0m\u001b[0m\n\u001b[1;32m    603\u001b[0m             \u001b[0mself\u001b[0m\u001b[0;34m.\u001b[0m\u001b[0m_trace_match\u001b[0m\u001b[0;34m(\u001b[0m\u001b[0mtoken\u001b[0m\u001b[0;34m,\u001b[0m \u001b[0mfailed\u001b[0m\u001b[0;34m=\u001b[0m\u001b[0;32mTrue\u001b[0m\u001b[0;34m)\u001b[0m\u001b[0;34m\u001b[0m\u001b[0m\n\u001b[0;32m--> 604\u001b[0;31m             \u001b[0mself\u001b[0m\u001b[0;34m.\u001b[0m\u001b[0m_error\u001b[0m\u001b[0;34m(\u001b[0m\u001b[0mtoken\u001b[0m\u001b[0;34m,\u001b[0m \u001b[0metype\u001b[0m\u001b[0;34m=\u001b[0m\u001b[0mFailedToken\u001b[0m\u001b[0;34m)\u001b[0m\u001b[0;34m\u001b[0m\u001b[0m\n\u001b[0m\u001b[1;32m    605\u001b[0m         \u001b[0mself\u001b[0m\u001b[0;34m.\u001b[0m\u001b[0m_trace_match\u001b[0m\u001b[0;34m(\u001b[0m\u001b[0mtoken\u001b[0m\u001b[0;34m)\u001b[0m\u001b[0;34m\u001b[0m\u001b[0m\n\u001b[1;32m    606\u001b[0m         \u001b[0mself\u001b[0m\u001b[0;34m.\u001b[0m\u001b[0m_add_cst_node\u001b[0m\u001b[0;34m(\u001b[0m\u001b[0mtoken\u001b[0m\u001b[0;34m)\u001b[0m\u001b[0;34m\u001b[0m\u001b[0m\n",
      "\u001b[0;32m/usr/lib/python3.6/site-packages/grako/contexts.py\u001b[0m in \u001b[0;36m_error\u001b[0;34m(self, item, etype)\u001b[0m\n\u001b[1;32m    429\u001b[0m             \u001b[0mself\u001b[0m\u001b[0;34m.\u001b[0m\u001b[0m_buffer\u001b[0m\u001b[0;34m,\u001b[0m\u001b[0;34m\u001b[0m\u001b[0m\n\u001b[1;32m    430\u001b[0m             \u001b[0mlist\u001b[0m\u001b[0;34m(\u001b[0m\u001b[0mreversed\u001b[0m\u001b[0;34m(\u001b[0m\u001b[0mself\u001b[0m\u001b[0;34m.\u001b[0m\u001b[0m_rule_stack\u001b[0m\u001b[0;34m[\u001b[0m\u001b[0;34m:\u001b[0m\u001b[0;34m]\u001b[0m\u001b[0;34m)\u001b[0m\u001b[0;34m)\u001b[0m\u001b[0;34m,\u001b[0m\u001b[0;34m\u001b[0m\u001b[0m\n\u001b[0;32m--> 431\u001b[0;31m             \u001b[0mitem\u001b[0m\u001b[0;34m\u001b[0m\u001b[0m\n\u001b[0m\u001b[1;32m    432\u001b[0m         )\n\u001b[1;32m    433\u001b[0m \u001b[0;34m\u001b[0m\u001b[0m\n",
      "\u001b[0;31mFailedToken\u001b[0m: (2:14) expecting ':' :\n             instrucciones\n             ^\nwhile"
     ]
    }
   ],
   "source": [
    "ast = parser.parse(test_not_ok, rule_name='while')\n",
    "print(ast)\n",
    "print(json.dumps(ast, indent=2))"
   ]
  },
  {
   "cell_type": "markdown",
   "metadata": {},
   "source": [
    "### Veamos Diagramas de Sintaxis generados por nuestra gramática .."
   ]
  },
  {
   "cell_type": "code",
   "execution_count": 54,
   "metadata": {
    "collapsed": false
   },
   "outputs": [
    {
     "name": "stdout",
     "output_type": "stream",
     "text": [
      "------------------------------------------------------------------------\r\n",
      "          67  lines in grammar\r\n",
      "           9  rules in grammar\r\n",
      "         128  nodes in AST\r\n"
     ]
    }
   ],
   "source": [
    "!python3 -m grako --draw data/while_exp.txt -o images/generated.png"
   ]
  },
  {
   "cell_type": "markdown",
   "metadata": {},
   "source": [
    "![grammar_generated](images/generated.png)"
   ]
  }
 ],
 "metadata": {
  "kernelspec": {
   "display_name": "Python 3",
   "language": "python",
   "name": "python3"
  },
  "language_info": {
   "codemirror_mode": {
    "name": "ipython",
    "version": 3
   },
   "file_extension": ".py",
   "mimetype": "text/x-python",
   "name": "python",
   "nbconvert_exporter": "python",
   "pygments_lexer": "ipython3",
   "version": "3.6.0"
  }
 },
 "nbformat": 4,
 "nbformat_minor": 2
}
